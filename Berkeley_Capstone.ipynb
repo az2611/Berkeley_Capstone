{
  "cells": [
    {
      "cell_type": "markdown",
      "metadata": {
        "id": "view-in-github",
        "colab_type": "text"
      },
      "source": [
        "<a href=\"https://colab.research.google.com/github/az2611/Berkeley_Capstone/blob/main/Berkeley_Capstone.ipynb\" target=\"_parent\"><img src=\"https://colab.research.google.com/assets/colab-badge.svg\" alt=\"Open In Colab\"/></a>"
      ]
    },
    {
      "cell_type": "markdown",
      "metadata": {
        "id": "deDGWS90b34E"
      },
      "source": [
        "# **Claims Description Classification**"
      ]
    },
    {
      "cell_type": "code",
      "source": [
        "from google.colab import drive\n",
        "drive.mount('/content/drive')"
      ],
      "metadata": {
        "colab": {
          "base_uri": "https://localhost:8080/"
        },
        "id": "jV7Caqutb71M",
        "outputId": "91dfa7a9-2b14-424a-ac5f-82487b824658"
      },
      "execution_count": 273,
      "outputs": [
        {
          "output_type": "stream",
          "name": "stdout",
          "text": [
            "Drive already mounted at /content/drive; to attempt to forcibly remount, call drive.mount(\"/content/drive\", force_remount=True).\n"
          ]
        }
      ]
    },
    {
      "cell_type": "code",
      "source": [
        "import seaborn as sns"
      ],
      "metadata": {
        "id": "-sMZQW1QIxuf"
      },
      "execution_count": 274,
      "outputs": []
    },
    {
      "cell_type": "code",
      "execution_count": 275,
      "metadata": {
        "colab": {
          "base_uri": "https://localhost:8080/"
        },
        "id": "LP78qBJhb34G",
        "outputId": "489bc3e5-140e-43be-d5c2-2e3f06bb07ac"
      },
      "outputs": [
        {
          "output_type": "stream",
          "name": "stderr",
          "text": [
            "[nltk_data] Downloading package wordnet to /root/nltk_data...\n",
            "[nltk_data]   Package wordnet is already up-to-date!\n",
            "[nltk_data] Downloading package omw-1.4 to /root/nltk_data...\n",
            "[nltk_data]   Package omw-1.4 is already up-to-date!\n",
            "[nltk_data] Downloading package punkt to /root/nltk_data...\n",
            "[nltk_data]   Package punkt is already up-to-date!\n",
            "[nltk_data] Downloading package stopwords to /root/nltk_data...\n",
            "[nltk_data]   Package stopwords is already up-to-date!\n"
          ]
        },
        {
          "output_type": "execute_result",
          "data": {
            "text/plain": [
              "True"
            ]
          },
          "metadata": {},
          "execution_count": 275
        }
      ],
      "source": [
        "import pandas as pd\n",
        "import numpy as np\n",
        "import matplotlib.pyplot as plt\n",
        "import time\n",
        "\n",
        "from sklearn.linear_model import LogisticRegression\n",
        "from sklearn.feature_extraction.text import CountVectorizer\n",
        "from sklearn.pipeline import Pipeline\n",
        "from sklearn.model_selection import train_test_split, GridSearchCV\n",
        "from sklearn.metrics import mean_squared_error\n",
        "from sklearn.naive_bayes import MultinomialNB\n",
        "from sklearn.tree import DecisionTreeClassifier\n",
        "from sklearn.feature_extraction.text import TfidfVectorizer\n",
        "\n",
        "from nltk.stem import PorterStemmer, WordNetLemmatizer\n",
        "from nltk import word_tokenize\n",
        "\n",
        "import nltk\n",
        "nltk.download('wordnet')\n",
        "nltk.download('omw-1.4')\n",
        "nltk.download('punkt')\n",
        "nltk.download('stopwords')"
      ]
    },
    {
      "cell_type": "code",
      "source": [
        "df = pd.read_csv('/content/drive/MyDrive/Loss_Classification/Loss_Description.csv')"
      ],
      "metadata": {
        "id": "KjNNu43ZcR0R"
      },
      "execution_count": 276,
      "outputs": []
    },
    {
      "cell_type": "code",
      "execution_count": 277,
      "metadata": {
        "colab": {
          "base_uri": "https://localhost:8080/",
          "height": 206
        },
        "id": "6OCGAzg2b34H",
        "outputId": "e1d06d23-7b2a-4afa-e13a-486ad82032d3"
      },
      "outputs": [
        {
          "output_type": "execute_result",
          "data": {
            "text/plain": [
              "                            Description                         Class\n",
              "0                                   VWF  Occupational disease/illness\n",
              "1       CLAIMANT FELL AND INJURED WRIST                          Fell\n",
              "2  FELL ON ROADWAY AND INJURED BUTTOCKS                          Fell\n",
              "3            FELL ON RAIL TRACK NIL DED                          Fell\n",
              "4     STEEL FELL ON CLMNTS LEGS NIL DED                          Fell"
            ],
            "text/html": [
              "\n",
              "  <div id=\"df-34980ca6-08d9-4688-a6c5-b61c9e17be91\">\n",
              "    <div class=\"colab-df-container\">\n",
              "      <div>\n",
              "<style scoped>\n",
              "    .dataframe tbody tr th:only-of-type {\n",
              "        vertical-align: middle;\n",
              "    }\n",
              "\n",
              "    .dataframe tbody tr th {\n",
              "        vertical-align: top;\n",
              "    }\n",
              "\n",
              "    .dataframe thead th {\n",
              "        text-align: right;\n",
              "    }\n",
              "</style>\n",
              "<table border=\"1\" class=\"dataframe\">\n",
              "  <thead>\n",
              "    <tr style=\"text-align: right;\">\n",
              "      <th></th>\n",
              "      <th>Description</th>\n",
              "      <th>Class</th>\n",
              "    </tr>\n",
              "  </thead>\n",
              "  <tbody>\n",
              "    <tr>\n",
              "      <th>0</th>\n",
              "      <td>VWF</td>\n",
              "      <td>Occupational disease/illness</td>\n",
              "    </tr>\n",
              "    <tr>\n",
              "      <th>1</th>\n",
              "      <td>CLAIMANT FELL AND INJURED WRIST</td>\n",
              "      <td>Fell</td>\n",
              "    </tr>\n",
              "    <tr>\n",
              "      <th>2</th>\n",
              "      <td>FELL ON ROADWAY AND INJURED BUTTOCKS</td>\n",
              "      <td>Fell</td>\n",
              "    </tr>\n",
              "    <tr>\n",
              "      <th>3</th>\n",
              "      <td>FELL ON RAIL TRACK NIL DED</td>\n",
              "      <td>Fell</td>\n",
              "    </tr>\n",
              "    <tr>\n",
              "      <th>4</th>\n",
              "      <td>STEEL FELL ON CLMNTS LEGS NIL DED</td>\n",
              "      <td>Fell</td>\n",
              "    </tr>\n",
              "  </tbody>\n",
              "</table>\n",
              "</div>\n",
              "      <button class=\"colab-df-convert\" onclick=\"convertToInteractive('df-34980ca6-08d9-4688-a6c5-b61c9e17be91')\"\n",
              "              title=\"Convert this dataframe to an interactive table.\"\n",
              "              style=\"display:none;\">\n",
              "        \n",
              "  <svg xmlns=\"http://www.w3.org/2000/svg\" height=\"24px\"viewBox=\"0 0 24 24\"\n",
              "       width=\"24px\">\n",
              "    <path d=\"M0 0h24v24H0V0z\" fill=\"none\"/>\n",
              "    <path d=\"M18.56 5.44l.94 2.06.94-2.06 2.06-.94-2.06-.94-.94-2.06-.94 2.06-2.06.94zm-11 1L8.5 8.5l.94-2.06 2.06-.94-2.06-.94L8.5 2.5l-.94 2.06-2.06.94zm10 10l.94 2.06.94-2.06 2.06-.94-2.06-.94-.94-2.06-.94 2.06-2.06.94z\"/><path d=\"M17.41 7.96l-1.37-1.37c-.4-.4-.92-.59-1.43-.59-.52 0-1.04.2-1.43.59L10.3 9.45l-7.72 7.72c-.78.78-.78 2.05 0 2.83L4 21.41c.39.39.9.59 1.41.59.51 0 1.02-.2 1.41-.59l7.78-7.78 2.81-2.81c.8-.78.8-2.07 0-2.86zM5.41 20L4 18.59l7.72-7.72 1.47 1.35L5.41 20z\"/>\n",
              "  </svg>\n",
              "      </button>\n",
              "      \n",
              "  <style>\n",
              "    .colab-df-container {\n",
              "      display:flex;\n",
              "      flex-wrap:wrap;\n",
              "      gap: 12px;\n",
              "    }\n",
              "\n",
              "    .colab-df-convert {\n",
              "      background-color: #E8F0FE;\n",
              "      border: none;\n",
              "      border-radius: 50%;\n",
              "      cursor: pointer;\n",
              "      display: none;\n",
              "      fill: #1967D2;\n",
              "      height: 32px;\n",
              "      padding: 0 0 0 0;\n",
              "      width: 32px;\n",
              "    }\n",
              "\n",
              "    .colab-df-convert:hover {\n",
              "      background-color: #E2EBFA;\n",
              "      box-shadow: 0px 1px 2px rgba(60, 64, 67, 0.3), 0px 1px 3px 1px rgba(60, 64, 67, 0.15);\n",
              "      fill: #174EA6;\n",
              "    }\n",
              "\n",
              "    [theme=dark] .colab-df-convert {\n",
              "      background-color: #3B4455;\n",
              "      fill: #D2E3FC;\n",
              "    }\n",
              "\n",
              "    [theme=dark] .colab-df-convert:hover {\n",
              "      background-color: #434B5C;\n",
              "      box-shadow: 0px 1px 3px 1px rgba(0, 0, 0, 0.15);\n",
              "      filter: drop-shadow(0px 1px 2px rgba(0, 0, 0, 0.3));\n",
              "      fill: #FFFFFF;\n",
              "    }\n",
              "  </style>\n",
              "\n",
              "      <script>\n",
              "        const buttonEl =\n",
              "          document.querySelector('#df-34980ca6-08d9-4688-a6c5-b61c9e17be91 button.colab-df-convert');\n",
              "        buttonEl.style.display =\n",
              "          google.colab.kernel.accessAllowed ? 'block' : 'none';\n",
              "\n",
              "        async function convertToInteractive(key) {\n",
              "          const element = document.querySelector('#df-34980ca6-08d9-4688-a6c5-b61c9e17be91');\n",
              "          const dataTable =\n",
              "            await google.colab.kernel.invokeFunction('convertToInteractive',\n",
              "                                                     [key], {});\n",
              "          if (!dataTable) return;\n",
              "\n",
              "          const docLinkHtml = 'Like what you see? Visit the ' +\n",
              "            '<a target=\"_blank\" href=https://colab.research.google.com/notebooks/data_table.ipynb>data table notebook</a>'\n",
              "            + ' to learn more about interactive tables.';\n",
              "          element.innerHTML = '';\n",
              "          dataTable['output_type'] = 'display_data';\n",
              "          await google.colab.output.renderOutput(dataTable, element);\n",
              "          const docLink = document.createElement('div');\n",
              "          docLink.innerHTML = docLinkHtml;\n",
              "          element.appendChild(docLink);\n",
              "        }\n",
              "      </script>\n",
              "    </div>\n",
              "  </div>\n",
              "  "
            ]
          },
          "metadata": {},
          "execution_count": 277
        }
      ],
      "source": [
        "df.head()"
      ]
    },
    {
      "cell_type": "markdown",
      "metadata": {
        "id": "188lsaTOb34I"
      },
      "source": [
        "#### Task\n",
        "\n",
        "\n",
        "**Text preprocessing:** As a pre-processing step, perform both `stemming` and `lemmatizing` to normalize your text before classifying. For each technique use both the `CountVectorize`r and `TfidifVectorizer` and use options for stop words and max features to prepare the text data for your estimator.\n",
        "\n",
        "**Classification:** Once you have prepared the text data with stemming lemmatizing techniques, consider `LogisticRegression`, `DecisionTreeClassifier`, and `MultinomialNB` as classification algorithms for the data. Compare their performance in terms of accuracy and speed.\n",
        "\n",
        "Share the results of your best classifier in the form of a table with the best version of each estimator, a dictionary of the best parameters and the best score."
      ]
    },
    {
      "cell_type": "markdown",
      "source": [
        "# Data Exploration and Preparation"
      ],
      "metadata": {
        "id": "9bjJBD5ZnBee"
      }
    },
    {
      "cell_type": "code",
      "source": [
        "df.describe()"
      ],
      "metadata": {
        "colab": {
          "base_uri": "https://localhost:8080/",
          "height": 175
        },
        "id": "x7ecBJfknJc8",
        "outputId": "a2f415e3-7b4a-451f-97f9-2bdafece2e8f"
      },
      "execution_count": 278,
      "outputs": [
        {
          "output_type": "execute_result",
          "data": {
            "text/plain": [
              "           Description   Class\n",
              "count             2311    2311\n",
              "unique            2298      12\n",
              "top     C Mesothelioma  Injury\n",
              "freq                 2     842"
            ],
            "text/html": [
              "\n",
              "  <div id=\"df-e183d8fe-990a-42b8-90d0-88a6f4e54bf3\">\n",
              "    <div class=\"colab-df-container\">\n",
              "      <div>\n",
              "<style scoped>\n",
              "    .dataframe tbody tr th:only-of-type {\n",
              "        vertical-align: middle;\n",
              "    }\n",
              "\n",
              "    .dataframe tbody tr th {\n",
              "        vertical-align: top;\n",
              "    }\n",
              "\n",
              "    .dataframe thead th {\n",
              "        text-align: right;\n",
              "    }\n",
              "</style>\n",
              "<table border=\"1\" class=\"dataframe\">\n",
              "  <thead>\n",
              "    <tr style=\"text-align: right;\">\n",
              "      <th></th>\n",
              "      <th>Description</th>\n",
              "      <th>Class</th>\n",
              "    </tr>\n",
              "  </thead>\n",
              "  <tbody>\n",
              "    <tr>\n",
              "      <th>count</th>\n",
              "      <td>2311</td>\n",
              "      <td>2311</td>\n",
              "    </tr>\n",
              "    <tr>\n",
              "      <th>unique</th>\n",
              "      <td>2298</td>\n",
              "      <td>12</td>\n",
              "    </tr>\n",
              "    <tr>\n",
              "      <th>top</th>\n",
              "      <td>C Mesothelioma</td>\n",
              "      <td>Injury</td>\n",
              "    </tr>\n",
              "    <tr>\n",
              "      <th>freq</th>\n",
              "      <td>2</td>\n",
              "      <td>842</td>\n",
              "    </tr>\n",
              "  </tbody>\n",
              "</table>\n",
              "</div>\n",
              "      <button class=\"colab-df-convert\" onclick=\"convertToInteractive('df-e183d8fe-990a-42b8-90d0-88a6f4e54bf3')\"\n",
              "              title=\"Convert this dataframe to an interactive table.\"\n",
              "              style=\"display:none;\">\n",
              "        \n",
              "  <svg xmlns=\"http://www.w3.org/2000/svg\" height=\"24px\"viewBox=\"0 0 24 24\"\n",
              "       width=\"24px\">\n",
              "    <path d=\"M0 0h24v24H0V0z\" fill=\"none\"/>\n",
              "    <path d=\"M18.56 5.44l.94 2.06.94-2.06 2.06-.94-2.06-.94-.94-2.06-.94 2.06-2.06.94zm-11 1L8.5 8.5l.94-2.06 2.06-.94-2.06-.94L8.5 2.5l-.94 2.06-2.06.94zm10 10l.94 2.06.94-2.06 2.06-.94-2.06-.94-.94-2.06-.94 2.06-2.06.94z\"/><path d=\"M17.41 7.96l-1.37-1.37c-.4-.4-.92-.59-1.43-.59-.52 0-1.04.2-1.43.59L10.3 9.45l-7.72 7.72c-.78.78-.78 2.05 0 2.83L4 21.41c.39.39.9.59 1.41.59.51 0 1.02-.2 1.41-.59l7.78-7.78 2.81-2.81c.8-.78.8-2.07 0-2.86zM5.41 20L4 18.59l7.72-7.72 1.47 1.35L5.41 20z\"/>\n",
              "  </svg>\n",
              "      </button>\n",
              "      \n",
              "  <style>\n",
              "    .colab-df-container {\n",
              "      display:flex;\n",
              "      flex-wrap:wrap;\n",
              "      gap: 12px;\n",
              "    }\n",
              "\n",
              "    .colab-df-convert {\n",
              "      background-color: #E8F0FE;\n",
              "      border: none;\n",
              "      border-radius: 50%;\n",
              "      cursor: pointer;\n",
              "      display: none;\n",
              "      fill: #1967D2;\n",
              "      height: 32px;\n",
              "      padding: 0 0 0 0;\n",
              "      width: 32px;\n",
              "    }\n",
              "\n",
              "    .colab-df-convert:hover {\n",
              "      background-color: #E2EBFA;\n",
              "      box-shadow: 0px 1px 2px rgba(60, 64, 67, 0.3), 0px 1px 3px 1px rgba(60, 64, 67, 0.15);\n",
              "      fill: #174EA6;\n",
              "    }\n",
              "\n",
              "    [theme=dark] .colab-df-convert {\n",
              "      background-color: #3B4455;\n",
              "      fill: #D2E3FC;\n",
              "    }\n",
              "\n",
              "    [theme=dark] .colab-df-convert:hover {\n",
              "      background-color: #434B5C;\n",
              "      box-shadow: 0px 1px 3px 1px rgba(0, 0, 0, 0.15);\n",
              "      filter: drop-shadow(0px 1px 2px rgba(0, 0, 0, 0.3));\n",
              "      fill: #FFFFFF;\n",
              "    }\n",
              "  </style>\n",
              "\n",
              "      <script>\n",
              "        const buttonEl =\n",
              "          document.querySelector('#df-e183d8fe-990a-42b8-90d0-88a6f4e54bf3 button.colab-df-convert');\n",
              "        buttonEl.style.display =\n",
              "          google.colab.kernel.accessAllowed ? 'block' : 'none';\n",
              "\n",
              "        async function convertToInteractive(key) {\n",
              "          const element = document.querySelector('#df-e183d8fe-990a-42b8-90d0-88a6f4e54bf3');\n",
              "          const dataTable =\n",
              "            await google.colab.kernel.invokeFunction('convertToInteractive',\n",
              "                                                     [key], {});\n",
              "          if (!dataTable) return;\n",
              "\n",
              "          const docLinkHtml = 'Like what you see? Visit the ' +\n",
              "            '<a target=\"_blank\" href=https://colab.research.google.com/notebooks/data_table.ipynb>data table notebook</a>'\n",
              "            + ' to learn more about interactive tables.';\n",
              "          element.innerHTML = '';\n",
              "          dataTable['output_type'] = 'display_data';\n",
              "          await google.colab.output.renderOutput(dataTable, element);\n",
              "          const docLink = document.createElement('div');\n",
              "          docLink.innerHTML = docLinkHtml;\n",
              "          element.appendChild(docLink);\n",
              "        }\n",
              "      </script>\n",
              "    </div>\n",
              "  </div>\n",
              "  "
            ]
          },
          "metadata": {},
          "execution_count": 278
        }
      ]
    },
    {
      "cell_type": "code",
      "source": [
        "df.info()"
      ],
      "metadata": {
        "colab": {
          "base_uri": "https://localhost:8080/"
        },
        "id": "2qzdzD2cnX-z",
        "outputId": "e5962e05-9aca-43ef-ee35-580cc37a0172"
      },
      "execution_count": 279,
      "outputs": [
        {
          "output_type": "stream",
          "name": "stdout",
          "text": [
            "<class 'pandas.core.frame.DataFrame'>\n",
            "RangeIndex: 2311 entries, 0 to 2310\n",
            "Data columns (total 2 columns):\n",
            " #   Column       Non-Null Count  Dtype \n",
            "---  ------       --------------  ----- \n",
            " 0   Description  2311 non-null   object\n",
            " 1   Class        2311 non-null   object\n",
            "dtypes: object(2)\n",
            "memory usage: 36.2+ KB\n"
          ]
        }
      ]
    },
    {
      "cell_type": "code",
      "source": [
        "#Remove Unknows\n",
        "df = df[df.Class!='Unknown']"
      ],
      "metadata": {
        "id": "k8w_d5ryo5E4"
      },
      "execution_count": 280,
      "outputs": []
    },
    {
      "cell_type": "code",
      "source": [
        "possible_labels = df['Class'].unique()\n"
      ],
      "metadata": {
        "id": "roRvKhN3lBoQ"
      },
      "execution_count": 281,
      "outputs": []
    },
    {
      "cell_type": "code",
      "source": [
        "label_dict = {}\n",
        "for index, possible_label in enumerate (possible_labels):\n",
        "     label_dict[possible_label]=index "
      ],
      "metadata": {
        "id": "CGx3SYHJnJkw"
      },
      "execution_count": 282,
      "outputs": []
    },
    {
      "cell_type": "code",
      "source": [
        "df['label']=df.Class.replace(label_dict)\n",
        "df.head()"
      ],
      "metadata": {
        "colab": {
          "base_uri": "https://localhost:8080/",
          "height": 206
        },
        "id": "HYQOGpZ_nJrA",
        "outputId": "c0db07cb-8550-48ed-e622-f26d81f7a9fa"
      },
      "execution_count": 283,
      "outputs": [
        {
          "output_type": "execute_result",
          "data": {
            "text/plain": [
              "                            Description                         Class  label\n",
              "0                                   VWF  Occupational disease/illness      0\n",
              "1       CLAIMANT FELL AND INJURED WRIST                          Fell      1\n",
              "2  FELL ON ROADWAY AND INJURED BUTTOCKS                          Fell      1\n",
              "3            FELL ON RAIL TRACK NIL DED                          Fell      1\n",
              "4     STEEL FELL ON CLMNTS LEGS NIL DED                          Fell      1"
            ],
            "text/html": [
              "\n",
              "  <div id=\"df-4c6861b5-18f7-4317-bc10-22addb2450ca\">\n",
              "    <div class=\"colab-df-container\">\n",
              "      <div>\n",
              "<style scoped>\n",
              "    .dataframe tbody tr th:only-of-type {\n",
              "        vertical-align: middle;\n",
              "    }\n",
              "\n",
              "    .dataframe tbody tr th {\n",
              "        vertical-align: top;\n",
              "    }\n",
              "\n",
              "    .dataframe thead th {\n",
              "        text-align: right;\n",
              "    }\n",
              "</style>\n",
              "<table border=\"1\" class=\"dataframe\">\n",
              "  <thead>\n",
              "    <tr style=\"text-align: right;\">\n",
              "      <th></th>\n",
              "      <th>Description</th>\n",
              "      <th>Class</th>\n",
              "      <th>label</th>\n",
              "    </tr>\n",
              "  </thead>\n",
              "  <tbody>\n",
              "    <tr>\n",
              "      <th>0</th>\n",
              "      <td>VWF</td>\n",
              "      <td>Occupational disease/illness</td>\n",
              "      <td>0</td>\n",
              "    </tr>\n",
              "    <tr>\n",
              "      <th>1</th>\n",
              "      <td>CLAIMANT FELL AND INJURED WRIST</td>\n",
              "      <td>Fell</td>\n",
              "      <td>1</td>\n",
              "    </tr>\n",
              "    <tr>\n",
              "      <th>2</th>\n",
              "      <td>FELL ON ROADWAY AND INJURED BUTTOCKS</td>\n",
              "      <td>Fell</td>\n",
              "      <td>1</td>\n",
              "    </tr>\n",
              "    <tr>\n",
              "      <th>3</th>\n",
              "      <td>FELL ON RAIL TRACK NIL DED</td>\n",
              "      <td>Fell</td>\n",
              "      <td>1</td>\n",
              "    </tr>\n",
              "    <tr>\n",
              "      <th>4</th>\n",
              "      <td>STEEL FELL ON CLMNTS LEGS NIL DED</td>\n",
              "      <td>Fell</td>\n",
              "      <td>1</td>\n",
              "    </tr>\n",
              "  </tbody>\n",
              "</table>\n",
              "</div>\n",
              "      <button class=\"colab-df-convert\" onclick=\"convertToInteractive('df-4c6861b5-18f7-4317-bc10-22addb2450ca')\"\n",
              "              title=\"Convert this dataframe to an interactive table.\"\n",
              "              style=\"display:none;\">\n",
              "        \n",
              "  <svg xmlns=\"http://www.w3.org/2000/svg\" height=\"24px\"viewBox=\"0 0 24 24\"\n",
              "       width=\"24px\">\n",
              "    <path d=\"M0 0h24v24H0V0z\" fill=\"none\"/>\n",
              "    <path d=\"M18.56 5.44l.94 2.06.94-2.06 2.06-.94-2.06-.94-.94-2.06-.94 2.06-2.06.94zm-11 1L8.5 8.5l.94-2.06 2.06-.94-2.06-.94L8.5 2.5l-.94 2.06-2.06.94zm10 10l.94 2.06.94-2.06 2.06-.94-2.06-.94-.94-2.06-.94 2.06-2.06.94z\"/><path d=\"M17.41 7.96l-1.37-1.37c-.4-.4-.92-.59-1.43-.59-.52 0-1.04.2-1.43.59L10.3 9.45l-7.72 7.72c-.78.78-.78 2.05 0 2.83L4 21.41c.39.39.9.59 1.41.59.51 0 1.02-.2 1.41-.59l7.78-7.78 2.81-2.81c.8-.78.8-2.07 0-2.86zM5.41 20L4 18.59l7.72-7.72 1.47 1.35L5.41 20z\"/>\n",
              "  </svg>\n",
              "      </button>\n",
              "      \n",
              "  <style>\n",
              "    .colab-df-container {\n",
              "      display:flex;\n",
              "      flex-wrap:wrap;\n",
              "      gap: 12px;\n",
              "    }\n",
              "\n",
              "    .colab-df-convert {\n",
              "      background-color: #E8F0FE;\n",
              "      border: none;\n",
              "      border-radius: 50%;\n",
              "      cursor: pointer;\n",
              "      display: none;\n",
              "      fill: #1967D2;\n",
              "      height: 32px;\n",
              "      padding: 0 0 0 0;\n",
              "      width: 32px;\n",
              "    }\n",
              "\n",
              "    .colab-df-convert:hover {\n",
              "      background-color: #E2EBFA;\n",
              "      box-shadow: 0px 1px 2px rgba(60, 64, 67, 0.3), 0px 1px 3px 1px rgba(60, 64, 67, 0.15);\n",
              "      fill: #174EA6;\n",
              "    }\n",
              "\n",
              "    [theme=dark] .colab-df-convert {\n",
              "      background-color: #3B4455;\n",
              "      fill: #D2E3FC;\n",
              "    }\n",
              "\n",
              "    [theme=dark] .colab-df-convert:hover {\n",
              "      background-color: #434B5C;\n",
              "      box-shadow: 0px 1px 3px 1px rgba(0, 0, 0, 0.15);\n",
              "      filter: drop-shadow(0px 1px 2px rgba(0, 0, 0, 0.3));\n",
              "      fill: #FFFFFF;\n",
              "    }\n",
              "  </style>\n",
              "\n",
              "      <script>\n",
              "        const buttonEl =\n",
              "          document.querySelector('#df-4c6861b5-18f7-4317-bc10-22addb2450ca button.colab-df-convert');\n",
              "        buttonEl.style.display =\n",
              "          google.colab.kernel.accessAllowed ? 'block' : 'none';\n",
              "\n",
              "        async function convertToInteractive(key) {\n",
              "          const element = document.querySelector('#df-4c6861b5-18f7-4317-bc10-22addb2450ca');\n",
              "          const dataTable =\n",
              "            await google.colab.kernel.invokeFunction('convertToInteractive',\n",
              "                                                     [key], {});\n",
              "          if (!dataTable) return;\n",
              "\n",
              "          const docLinkHtml = 'Like what you see? Visit the ' +\n",
              "            '<a target=\"_blank\" href=https://colab.research.google.com/notebooks/data_table.ipynb>data table notebook</a>'\n",
              "            + ' to learn more about interactive tables.';\n",
              "          element.innerHTML = '';\n",
              "          dataTable['output_type'] = 'display_data';\n",
              "          await google.colab.output.renderOutput(dataTable, element);\n",
              "          const docLink = document.createElement('div');\n",
              "          docLink.innerHTML = docLinkHtml;\n",
              "          element.appendChild(docLink);\n",
              "        }\n",
              "      </script>\n",
              "    </div>\n",
              "  </div>\n",
              "  "
            ]
          },
          "metadata": {},
          "execution_count": 283
        }
      ]
    },
    {
      "cell_type": "code",
      "source": [
        "df.groupby(['Class']).count()"
      ],
      "metadata": {
        "colab": {
          "base_uri": "https://localhost:8080/",
          "height": 426
        },
        "id": "AXvEC_5bor-z",
        "outputId": "a8b8c7eb-9f17-4a2b-a56c-e5956ceaf1f9"
      },
      "execution_count": 284,
      "outputs": [
        {
          "output_type": "execute_result",
          "data": {
            "text/plain": [
              "                              Description  label\n",
              "Class                                           \n",
              "Auto-related                          233    233\n",
              "Damage                                192    192\n",
              "Fell                                  509    509\n",
              "Fire                                   44     44\n",
              "Flood                                  62     62\n",
              "Injury                                842    842\n",
              "Occupational disease/illness          146    146\n",
              "Pollution                              62     62\n",
              "Theft                                  15     15\n",
              "Water                                 157    157\n",
              "auto-related                            2      2"
            ],
            "text/html": [
              "\n",
              "  <div id=\"df-b2e23ec3-194a-41e2-ada1-492a3c80327e\">\n",
              "    <div class=\"colab-df-container\">\n",
              "      <div>\n",
              "<style scoped>\n",
              "    .dataframe tbody tr th:only-of-type {\n",
              "        vertical-align: middle;\n",
              "    }\n",
              "\n",
              "    .dataframe tbody tr th {\n",
              "        vertical-align: top;\n",
              "    }\n",
              "\n",
              "    .dataframe thead th {\n",
              "        text-align: right;\n",
              "    }\n",
              "</style>\n",
              "<table border=\"1\" class=\"dataframe\">\n",
              "  <thead>\n",
              "    <tr style=\"text-align: right;\">\n",
              "      <th></th>\n",
              "      <th>Description</th>\n",
              "      <th>label</th>\n",
              "    </tr>\n",
              "    <tr>\n",
              "      <th>Class</th>\n",
              "      <th></th>\n",
              "      <th></th>\n",
              "    </tr>\n",
              "  </thead>\n",
              "  <tbody>\n",
              "    <tr>\n",
              "      <th>Auto-related</th>\n",
              "      <td>233</td>\n",
              "      <td>233</td>\n",
              "    </tr>\n",
              "    <tr>\n",
              "      <th>Damage</th>\n",
              "      <td>192</td>\n",
              "      <td>192</td>\n",
              "    </tr>\n",
              "    <tr>\n",
              "      <th>Fell</th>\n",
              "      <td>509</td>\n",
              "      <td>509</td>\n",
              "    </tr>\n",
              "    <tr>\n",
              "      <th>Fire</th>\n",
              "      <td>44</td>\n",
              "      <td>44</td>\n",
              "    </tr>\n",
              "    <tr>\n",
              "      <th>Flood</th>\n",
              "      <td>62</td>\n",
              "      <td>62</td>\n",
              "    </tr>\n",
              "    <tr>\n",
              "      <th>Injury</th>\n",
              "      <td>842</td>\n",
              "      <td>842</td>\n",
              "    </tr>\n",
              "    <tr>\n",
              "      <th>Occupational disease/illness</th>\n",
              "      <td>146</td>\n",
              "      <td>146</td>\n",
              "    </tr>\n",
              "    <tr>\n",
              "      <th>Pollution</th>\n",
              "      <td>62</td>\n",
              "      <td>62</td>\n",
              "    </tr>\n",
              "    <tr>\n",
              "      <th>Theft</th>\n",
              "      <td>15</td>\n",
              "      <td>15</td>\n",
              "    </tr>\n",
              "    <tr>\n",
              "      <th>Water</th>\n",
              "      <td>157</td>\n",
              "      <td>157</td>\n",
              "    </tr>\n",
              "    <tr>\n",
              "      <th>auto-related</th>\n",
              "      <td>2</td>\n",
              "      <td>2</td>\n",
              "    </tr>\n",
              "  </tbody>\n",
              "</table>\n",
              "</div>\n",
              "      <button class=\"colab-df-convert\" onclick=\"convertToInteractive('df-b2e23ec3-194a-41e2-ada1-492a3c80327e')\"\n",
              "              title=\"Convert this dataframe to an interactive table.\"\n",
              "              style=\"display:none;\">\n",
              "        \n",
              "  <svg xmlns=\"http://www.w3.org/2000/svg\" height=\"24px\"viewBox=\"0 0 24 24\"\n",
              "       width=\"24px\">\n",
              "    <path d=\"M0 0h24v24H0V0z\" fill=\"none\"/>\n",
              "    <path d=\"M18.56 5.44l.94 2.06.94-2.06 2.06-.94-2.06-.94-.94-2.06-.94 2.06-2.06.94zm-11 1L8.5 8.5l.94-2.06 2.06-.94-2.06-.94L8.5 2.5l-.94 2.06-2.06.94zm10 10l.94 2.06.94-2.06 2.06-.94-2.06-.94-.94-2.06-.94 2.06-2.06.94z\"/><path d=\"M17.41 7.96l-1.37-1.37c-.4-.4-.92-.59-1.43-.59-.52 0-1.04.2-1.43.59L10.3 9.45l-7.72 7.72c-.78.78-.78 2.05 0 2.83L4 21.41c.39.39.9.59 1.41.59.51 0 1.02-.2 1.41-.59l7.78-7.78 2.81-2.81c.8-.78.8-2.07 0-2.86zM5.41 20L4 18.59l7.72-7.72 1.47 1.35L5.41 20z\"/>\n",
              "  </svg>\n",
              "      </button>\n",
              "      \n",
              "  <style>\n",
              "    .colab-df-container {\n",
              "      display:flex;\n",
              "      flex-wrap:wrap;\n",
              "      gap: 12px;\n",
              "    }\n",
              "\n",
              "    .colab-df-convert {\n",
              "      background-color: #E8F0FE;\n",
              "      border: none;\n",
              "      border-radius: 50%;\n",
              "      cursor: pointer;\n",
              "      display: none;\n",
              "      fill: #1967D2;\n",
              "      height: 32px;\n",
              "      padding: 0 0 0 0;\n",
              "      width: 32px;\n",
              "    }\n",
              "\n",
              "    .colab-df-convert:hover {\n",
              "      background-color: #E2EBFA;\n",
              "      box-shadow: 0px 1px 2px rgba(60, 64, 67, 0.3), 0px 1px 3px 1px rgba(60, 64, 67, 0.15);\n",
              "      fill: #174EA6;\n",
              "    }\n",
              "\n",
              "    [theme=dark] .colab-df-convert {\n",
              "      background-color: #3B4455;\n",
              "      fill: #D2E3FC;\n",
              "    }\n",
              "\n",
              "    [theme=dark] .colab-df-convert:hover {\n",
              "      background-color: #434B5C;\n",
              "      box-shadow: 0px 1px 3px 1px rgba(0, 0, 0, 0.15);\n",
              "      filter: drop-shadow(0px 1px 2px rgba(0, 0, 0, 0.3));\n",
              "      fill: #FFFFFF;\n",
              "    }\n",
              "  </style>\n",
              "\n",
              "      <script>\n",
              "        const buttonEl =\n",
              "          document.querySelector('#df-b2e23ec3-194a-41e2-ada1-492a3c80327e button.colab-df-convert');\n",
              "        buttonEl.style.display =\n",
              "          google.colab.kernel.accessAllowed ? 'block' : 'none';\n",
              "\n",
              "        async function convertToInteractive(key) {\n",
              "          const element = document.querySelector('#df-b2e23ec3-194a-41e2-ada1-492a3c80327e');\n",
              "          const dataTable =\n",
              "            await google.colab.kernel.invokeFunction('convertToInteractive',\n",
              "                                                     [key], {});\n",
              "          if (!dataTable) return;\n",
              "\n",
              "          const docLinkHtml = 'Like what you see? Visit the ' +\n",
              "            '<a target=\"_blank\" href=https://colab.research.google.com/notebooks/data_table.ipynb>data table notebook</a>'\n",
              "            + ' to learn more about interactive tables.';\n",
              "          element.innerHTML = '';\n",
              "          dataTable['output_type'] = 'display_data';\n",
              "          await google.colab.output.renderOutput(dataTable, element);\n",
              "          const docLink = document.createElement('div');\n",
              "          docLink.innerHTML = docLinkHtml;\n",
              "          element.appendChild(docLink);\n",
              "        }\n",
              "      </script>\n",
              "    </div>\n",
              "  </div>\n",
              "  "
            ]
          },
          "metadata": {},
          "execution_count": 284
        }
      ]
    },
    {
      "cell_type": "code",
      "source": [
        "#Remove low classes\n",
        "df = df[~df['Class'].isin(['Auto-related','auto-related','Theft'])]"
      ],
      "metadata": {
        "id": "pznkCrllosH3"
      },
      "execution_count": 285,
      "outputs": []
    },
    {
      "cell_type": "code",
      "source": [
        "df.groupby(['Class']).count()"
      ],
      "metadata": {
        "colab": {
          "base_uri": "https://localhost:8080/",
          "height": 332
        },
        "id": "crcJACX6osL7",
        "outputId": "4f5a2dd5-4325-4309-a361-84e246aa1e71"
      },
      "execution_count": 286,
      "outputs": [
        {
          "output_type": "execute_result",
          "data": {
            "text/plain": [
              "                              Description  label\n",
              "Class                                           \n",
              "Damage                                192    192\n",
              "Fell                                  509    509\n",
              "Fire                                   44     44\n",
              "Flood                                  62     62\n",
              "Injury                                842    842\n",
              "Occupational disease/illness          146    146\n",
              "Pollution                              62     62\n",
              "Water                                 157    157"
            ],
            "text/html": [
              "\n",
              "  <div id=\"df-dd865ac7-899d-4f58-bf4f-6dd30ce120f0\">\n",
              "    <div class=\"colab-df-container\">\n",
              "      <div>\n",
              "<style scoped>\n",
              "    .dataframe tbody tr th:only-of-type {\n",
              "        vertical-align: middle;\n",
              "    }\n",
              "\n",
              "    .dataframe tbody tr th {\n",
              "        vertical-align: top;\n",
              "    }\n",
              "\n",
              "    .dataframe thead th {\n",
              "        text-align: right;\n",
              "    }\n",
              "</style>\n",
              "<table border=\"1\" class=\"dataframe\">\n",
              "  <thead>\n",
              "    <tr style=\"text-align: right;\">\n",
              "      <th></th>\n",
              "      <th>Description</th>\n",
              "      <th>label</th>\n",
              "    </tr>\n",
              "    <tr>\n",
              "      <th>Class</th>\n",
              "      <th></th>\n",
              "      <th></th>\n",
              "    </tr>\n",
              "  </thead>\n",
              "  <tbody>\n",
              "    <tr>\n",
              "      <th>Damage</th>\n",
              "      <td>192</td>\n",
              "      <td>192</td>\n",
              "    </tr>\n",
              "    <tr>\n",
              "      <th>Fell</th>\n",
              "      <td>509</td>\n",
              "      <td>509</td>\n",
              "    </tr>\n",
              "    <tr>\n",
              "      <th>Fire</th>\n",
              "      <td>44</td>\n",
              "      <td>44</td>\n",
              "    </tr>\n",
              "    <tr>\n",
              "      <th>Flood</th>\n",
              "      <td>62</td>\n",
              "      <td>62</td>\n",
              "    </tr>\n",
              "    <tr>\n",
              "      <th>Injury</th>\n",
              "      <td>842</td>\n",
              "      <td>842</td>\n",
              "    </tr>\n",
              "    <tr>\n",
              "      <th>Occupational disease/illness</th>\n",
              "      <td>146</td>\n",
              "      <td>146</td>\n",
              "    </tr>\n",
              "    <tr>\n",
              "      <th>Pollution</th>\n",
              "      <td>62</td>\n",
              "      <td>62</td>\n",
              "    </tr>\n",
              "    <tr>\n",
              "      <th>Water</th>\n",
              "      <td>157</td>\n",
              "      <td>157</td>\n",
              "    </tr>\n",
              "  </tbody>\n",
              "</table>\n",
              "</div>\n",
              "      <button class=\"colab-df-convert\" onclick=\"convertToInteractive('df-dd865ac7-899d-4f58-bf4f-6dd30ce120f0')\"\n",
              "              title=\"Convert this dataframe to an interactive table.\"\n",
              "              style=\"display:none;\">\n",
              "        \n",
              "  <svg xmlns=\"http://www.w3.org/2000/svg\" height=\"24px\"viewBox=\"0 0 24 24\"\n",
              "       width=\"24px\">\n",
              "    <path d=\"M0 0h24v24H0V0z\" fill=\"none\"/>\n",
              "    <path d=\"M18.56 5.44l.94 2.06.94-2.06 2.06-.94-2.06-.94-.94-2.06-.94 2.06-2.06.94zm-11 1L8.5 8.5l.94-2.06 2.06-.94-2.06-.94L8.5 2.5l-.94 2.06-2.06.94zm10 10l.94 2.06.94-2.06 2.06-.94-2.06-.94-.94-2.06-.94 2.06-2.06.94z\"/><path d=\"M17.41 7.96l-1.37-1.37c-.4-.4-.92-.59-1.43-.59-.52 0-1.04.2-1.43.59L10.3 9.45l-7.72 7.72c-.78.78-.78 2.05 0 2.83L4 21.41c.39.39.9.59 1.41.59.51 0 1.02-.2 1.41-.59l7.78-7.78 2.81-2.81c.8-.78.8-2.07 0-2.86zM5.41 20L4 18.59l7.72-7.72 1.47 1.35L5.41 20z\"/>\n",
              "  </svg>\n",
              "      </button>\n",
              "      \n",
              "  <style>\n",
              "    .colab-df-container {\n",
              "      display:flex;\n",
              "      flex-wrap:wrap;\n",
              "      gap: 12px;\n",
              "    }\n",
              "\n",
              "    .colab-df-convert {\n",
              "      background-color: #E8F0FE;\n",
              "      border: none;\n",
              "      border-radius: 50%;\n",
              "      cursor: pointer;\n",
              "      display: none;\n",
              "      fill: #1967D2;\n",
              "      height: 32px;\n",
              "      padding: 0 0 0 0;\n",
              "      width: 32px;\n",
              "    }\n",
              "\n",
              "    .colab-df-convert:hover {\n",
              "      background-color: #E2EBFA;\n",
              "      box-shadow: 0px 1px 2px rgba(60, 64, 67, 0.3), 0px 1px 3px 1px rgba(60, 64, 67, 0.15);\n",
              "      fill: #174EA6;\n",
              "    }\n",
              "\n",
              "    [theme=dark] .colab-df-convert {\n",
              "      background-color: #3B4455;\n",
              "      fill: #D2E3FC;\n",
              "    }\n",
              "\n",
              "    [theme=dark] .colab-df-convert:hover {\n",
              "      background-color: #434B5C;\n",
              "      box-shadow: 0px 1px 3px 1px rgba(0, 0, 0, 0.15);\n",
              "      filter: drop-shadow(0px 1px 2px rgba(0, 0, 0, 0.3));\n",
              "      fill: #FFFFFF;\n",
              "    }\n",
              "  </style>\n",
              "\n",
              "      <script>\n",
              "        const buttonEl =\n",
              "          document.querySelector('#df-dd865ac7-899d-4f58-bf4f-6dd30ce120f0 button.colab-df-convert');\n",
              "        buttonEl.style.display =\n",
              "          google.colab.kernel.accessAllowed ? 'block' : 'none';\n",
              "\n",
              "        async function convertToInteractive(key) {\n",
              "          const element = document.querySelector('#df-dd865ac7-899d-4f58-bf4f-6dd30ce120f0');\n",
              "          const dataTable =\n",
              "            await google.colab.kernel.invokeFunction('convertToInteractive',\n",
              "                                                     [key], {});\n",
              "          if (!dataTable) return;\n",
              "\n",
              "          const docLinkHtml = 'Like what you see? Visit the ' +\n",
              "            '<a target=\"_blank\" href=https://colab.research.google.com/notebooks/data_table.ipynb>data table notebook</a>'\n",
              "            + ' to learn more about interactive tables.';\n",
              "          element.innerHTML = '';\n",
              "          dataTable['output_type'] = 'display_data';\n",
              "          await google.colab.output.renderOutput(dataTable, element);\n",
              "          const docLink = document.createElement('div');\n",
              "          docLink.innerHTML = docLinkHtml;\n",
              "          element.appendChild(docLink);\n",
              "        }\n",
              "      </script>\n",
              "    </div>\n",
              "  </div>\n",
              "  "
            ]
          },
          "metadata": {},
          "execution_count": 286
        }
      ]
    },
    {
      "cell_type": "code",
      "source": [
        "ax = df['Class'].value_counts().plot(kind='bar',\n",
        "                                              figsize=(9,6),\n",
        "                                              title=\"Class Frequency\")\n",
        "ax.set_xlabel(\"Class\")\n",
        "ax.set_ylabel(\"Frequency\")"
      ],
      "metadata": {
        "colab": {
          "base_uri": "https://localhost:8080/",
          "height": 553
        },
        "id": "RTt6zi48osQE",
        "outputId": "845f8588-d065-4734-cdd4-bce84ef26eef"
      },
      "execution_count": 287,
      "outputs": [
        {
          "output_type": "execute_result",
          "data": {
            "text/plain": [
              "Text(0, 0.5, 'Frequency')"
            ]
          },
          "metadata": {},
          "execution_count": 287
        },
        {
          "output_type": "display_data",
          "data": {
            "text/plain": [
              "<Figure size 648x432 with 1 Axes>"
            ],
            "image/png": "[encoded data removed]"
          },
          "metadata": {
            "needs_background": "light"
          }
        }
      ]
    },
    {
      "cell_type": "markdown",
      "metadata": {
        "id": "pA3nKipWb34I"
      },
      "source": [
        "### Test / Train Set"
      ]
    },
    {
      "cell_type": "code",
      "execution_count": 288,
      "metadata": {
        "id": "DXUsp9tbb34I"
      },
      "outputs": [],
      "source": [
        "X = df.drop('Class', axis = 1)\n",
        "y = df['Class']"
      ]
    },
    {
      "cell_type": "code",
      "execution_count": 289,
      "metadata": {
        "id": "pigB2VkOb34I"
      },
      "outputs": [],
      "source": [
        "X_train, X_test, y_train, y_test = train_test_split(X['Description'], y, random_state = 42, stratify=y, test_size=0.3)"
      ]
    },
    {
      "cell_type": "code",
      "execution_count": 290,
      "metadata": {
        "colab": {
          "base_uri": "https://localhost:8080/"
        },
        "id": "GhkdiY4tb34I",
        "outputId": "8b80f788-66fa-4fd9-93ba-aa3cebfbc632"
      },
      "outputs": [
        {
          "output_type": "stream",
          "name": "stdout",
          "text": [
            "1409\n"
          ]
        },
        {
          "output_type": "execute_result",
          "data": {
            "text/plain": [
              "Injury                          0.418027\n",
              "Fell                            0.252661\n",
              "Damage                          0.095103\n",
              "Water                           0.078070\n",
              "Occupational disease/illness    0.072392\n",
              "Pollution                       0.031228\n",
              "Flood                           0.030518\n",
              "Fire                            0.022001\n",
              "Name: Class, dtype: float64"
            ]
          },
          "metadata": {},
          "execution_count": 290
        }
      ],
      "source": [
        "print(len(X_train))\n",
        "y_train.value_counts(normalize = True)"
      ]
    },
    {
      "cell_type": "code",
      "execution_count": 291,
      "metadata": {
        "colab": {
          "base_uri": "https://localhost:8080/"
        },
        "id": "Pf-dNNgdb34J",
        "outputId": "378f871a-6470-4400-db7d-8517d6cfafdd"
      },
      "outputs": [
        {
          "output_type": "stream",
          "name": "stdout",
          "text": [
            "1409\n"
          ]
        },
        {
          "output_type": "execute_result",
          "data": {
            "text/plain": [
              "Injury                          0.418182\n",
              "Fell                            0.252893\n",
              "Damage                          0.095868\n",
              "Water                           0.077686\n",
              "Occupational disease/illness    0.072727\n",
              "Flood                           0.031405\n",
              "Pollution                       0.029752\n",
              "Fire                            0.021488\n",
              "Name: Class, dtype: float64"
            ]
          },
          "metadata": {},
          "execution_count": 291
        }
      ],
      "source": [
        "print(len(y_train))\n",
        "y_test.value_counts(normalize = True)"
      ]
    },
    {
      "cell_type": "markdown",
      "metadata": {
        "id": "16Wtc67hb34J"
      },
      "source": [
        "### PorterStemming"
      ]
    },
    {
      "cell_type": "code",
      "execution_count": 292,
      "metadata": {
        "id": "SZbB_wprb34J"
      },
      "outputs": [],
      "source": [
        "def stemmer(text):\n",
        "    stem = PorterStemmer()\n",
        "    return ' '.join([stem.stem(w) for w in word_tokenize(text)])"
      ]
    },
    {
      "cell_type": "code",
      "execution_count": 293,
      "metadata": {
        "id": "2T56l4D4b34J"
      },
      "outputs": [],
      "source": [
        "stemmed_X_train = X_train.apply(stemmer)\n",
        "stemmed_X_test = X_test.apply(stemmer)"
      ]
    },
    {
      "cell_type": "code",
      "execution_count": 294,
      "metadata": {
        "id": "5tIAUaGkb34J"
      },
      "outputs": [],
      "source": [
        "results = pd.DataFrame(columns=['Model', \n",
        "                                'Stemming',\n",
        "                                'Vectorizer', \n",
        "                                'Best Max Features', \n",
        "                                'Best Stop Words', \n",
        "                                'Score',\n",
        "                                'Time'])\n",
        "\n",
        "results.set_index('Model', inplace=True)"
      ]
    },
    {
      "cell_type": "code",
      "execution_count": 295,
      "metadata": {
        "id": "aobdjXFhb34J"
      },
      "outputs": [],
      "source": [
        "params2 = {'vct__max_features': [100, 500, 1000, 2000, 3000, 4000],\n",
        "          'vct__stop_words': ['english', None]}"
      ]
    },
    {
      "cell_type": "code",
      "execution_count": 296,
      "metadata": {
        "id": "KgK0ImUmb34J"
      },
      "outputs": [],
      "source": [
        "models = [('LogisticRegression_l2', LogisticRegression(max_iter=10000, penalty='l2')),('DecisionTree', DecisionTreeClassifier()), ('NaiveBayes', MultinomialNB())]\n",
        "vectors = [('cvect', CountVectorizer()),('tdif',TfidfVectorizer())]"
      ]
    },
    {
      "cell_type": "code",
      "source": [
        "#grid.get_params().keys()"
      ],
      "metadata": {
        "id": "ybeC50sS-A05"
      },
      "execution_count": 297,
      "outputs": []
    },
    {
      "cell_type": "code",
      "source": [
        "params2 = {'vct__max_features': [100, 500, 1000, 2000, 3000, 4000],\n",
        "          'vct__stop_words': ['english', None]}"
      ],
      "metadata": {
        "id": "Og6JwflsCvE6"
      },
      "execution_count": 298,
      "outputs": []
    },
    {
      "cell_type": "code",
      "execution_count": 299,
      "metadata": {
        "colab": {
          "base_uri": "https://localhost:8080/"
        },
        "id": "7MY_ww0Db34J",
        "outputId": "71289569-e4e8-48f9-9ae4-f9fb55890b19"
      },
      "outputs": [
        {
          "output_type": "stream",
          "name": "stdout",
          "text": [
            "\n",
            "Working on  LogisticRegression_l2 + cvect\n",
            "Fitting 5 folds for each of 12 candidates, totalling 60 fits\n",
            "CPU times: user 8.05 s, sys: 31.9 ms, total: 8.08 s\n",
            "Wall time: 8.23 s\n",
            "\n",
            "Results for:  LogisticRegression_l2 + cvect\n",
            "\n",
            "Accuracy:  0.8859504132231405\n",
            "\n",
            "Best Parameters:  {'vct__max_features': 2000, 'vct__stop_words': None}\n",
            "\n",
            "Fit Time:  8.24\n",
            "\n",
            "Working on  LogisticRegression_l2 + tdif\n",
            "Fitting 5 folds for each of 12 candidates, totalling 60 fits\n",
            "CPU times: user 9.04 s, sys: 28.4 ms, total: 9.07 s\n",
            "Wall time: 9.21 s\n",
            "\n",
            "Results for:  LogisticRegression_l2 + tdif\n",
            "\n",
            "Accuracy:  0.8611570247933884\n",
            "\n",
            "Best Parameters:  {'vct__max_features': 500, 'vct__stop_words': None}\n",
            "\n",
            "Fit Time:  9.21\n",
            "\n",
            "Working on  DecisionTree + cvect\n",
            "Fitting 5 folds for each of 12 candidates, totalling 60 fits\n",
            "CPU times: user 1.83 s, sys: 9.57 ms, total: 1.84 s\n",
            "Wall time: 1.85 s\n",
            "\n",
            "Results for:  DecisionTree + cvect\n",
            "\n",
            "Accuracy:  0.8512396694214877\n",
            "\n",
            "Best Parameters:  {'vct__max_features': 2000, 'vct__stop_words': None}\n",
            "\n",
            "Fit Time:  1.85\n",
            "\n",
            "Working on  DecisionTree + tdif\n",
            "Fitting 5 folds for each of 12 candidates, totalling 60 fits\n",
            "CPU times: user 2.38 s, sys: 3.4 ms, total: 2.38 s\n",
            "Wall time: 2.38 s\n",
            "\n",
            "Results for:  DecisionTree + tdif\n",
            "\n",
            "Accuracy:  0.8528925619834711\n",
            "\n",
            "Best Parameters:  {'vct__max_features': 1000, 'vct__stop_words': None}\n",
            "\n",
            "Fit Time:  2.38\n",
            "\n",
            "Working on  NaiveBayes + cvect\n",
            "Fitting 5 folds for each of 12 candidates, totalling 60 fits\n",
            "CPU times: user 1.17 s, sys: 15 ms, total: 1.19 s\n",
            "Wall time: 1.18 s\n",
            "\n",
            "Results for:  NaiveBayes + cvect\n",
            "\n",
            "Accuracy:  0.8429752066115702\n",
            "\n",
            "Best Parameters:  {'vct__max_features': 500, 'vct__stop_words': None}\n",
            "\n",
            "Fit Time:  1.18\n",
            "\n",
            "Working on  NaiveBayes + tdif\n",
            "Fitting 5 folds for each of 12 candidates, totalling 60 fits\n",
            "CPU times: user 1.27 s, sys: 6.82 ms, total: 1.28 s\n",
            "Wall time: 1.29 s\n",
            "\n",
            "Results for:  NaiveBayes + tdif\n",
            "\n",
            "Accuracy:  0.7917355371900826\n",
            "\n",
            "Best Parameters:  {'vct__max_features': 500, 'vct__stop_words': 'english'}\n",
            "\n",
            "Fit Time:  1.3\n"
          ]
        }
      ],
      "source": [
        "iter_res = ''\n",
        "\n",
        "for model in models:\n",
        "        for vector in vectors:\n",
        "            print('\\nWorking on ', model[0], '+' ,vector[0] )\n",
        "            pipe_1 = Pipeline([('vct', vector[1]),\n",
        "                               ('mod', model[1])])\n",
        "            \n",
        "            grid = GridSearchCV(pipe_1, param_grid=params2, cv=5, scoring='accuracy', verbose=1)\n",
        "            \n",
        "            start_time = time.time()\n",
        "            %time grid.fit(stemmed_X_train, y_train)\n",
        "            end_time = time.time()\n",
        "            \n",
        "            test_acc = grid.score(stemmed_X_test, y_test)\n",
        "            best_p = grid.best_params_\n",
        "            \n",
        "            Max_feat_item = list(best_p.items())[0]\n",
        "            Max_feat_value = Max_feat_item[1]\n",
        "            \n",
        "            Best_stop_item = list(best_p.items())[1]\n",
        "            Best_stop_value = Best_stop_item[1]\n",
        "            \n",
        "            fit_time = round(end_time - start_time,2)\n",
        "            \n",
        "            print('\\nResults for: ', model[0], '+' ,vector[0] )\n",
        "            print('\\nAccuracy: ', test_acc)\n",
        "            print('\\nBest Parameters: ', best_p)\n",
        "            print('\\nFit Time: ', fit_time)\n",
        "            \n",
        "            iter_res= pd.DataFrame({'Model' : model[0], \n",
        "                                    'Stemming':'PorterStemmer()',\n",
        "                                    'Vectorizer':vector[0], \n",
        "                                    'Best Max Features' : Max_feat_value, \n",
        "                                    'Best Stop Words' : Best_stop_value,  \n",
        "                                    'Score' : test_acc,\n",
        "                                    'Time' : fit_time \n",
        "                                   }, index=[0])\n",
        "            \n",
        "            iter_res.set_index('Model', inplace=True)\n",
        "            results = pd.concat([results, iter_res], axis=0)"
      ]
    },
    {
      "cell_type": "markdown",
      "metadata": {
        "id": "Pdqn3BGNb34K"
      },
      "source": [
        "### WordNetLemmatizing"
      ]
    },
    {
      "cell_type": "code",
      "execution_count": 300,
      "metadata": {
        "id": "EnWpA-eqb34K"
      },
      "outputs": [],
      "source": [
        "def lemma(text):\n",
        "    lemma = WordNetLemmatizer()\n",
        "    return ' '.join([lemma.lemmatize(w) for w in word_tokenize(text)])"
      ]
    },
    {
      "cell_type": "code",
      "execution_count": 301,
      "metadata": {
        "id": "q2Z1lMvDb34K"
      },
      "outputs": [],
      "source": [
        "lemma_X_train = X_train.apply(lemma)\n",
        "lemma_X_test = X_test.apply(lemma)"
      ]
    },
    {
      "cell_type": "code",
      "execution_count": 302,
      "metadata": {
        "colab": {
          "base_uri": "https://localhost:8080/"
        },
        "id": "1I2b1ZLJb34K",
        "outputId": "68bb4376-b7fe-4ab5-92ac-711f59f3b077"
      },
      "outputs": [
        {
          "output_type": "stream",
          "name": "stdout",
          "text": [
            "\n",
            "Working on  LogisticRegression_l2 + cvect\n",
            "Fitting 5 folds for each of 12 candidates, totalling 60 fits\n",
            "CPU times: user 9.14 s, sys: 25.7 ms, total: 9.16 s\n",
            "Wall time: 10.1 s\n",
            "\n",
            "Results for:  LogisticRegression_l2 + cvect\n",
            "\n",
            "Accuracy:  0.8892561983471075\n",
            "\n",
            "Best Parameters:  {'vct__max_features': 1000, 'vct__stop_words': None}\n",
            "\n",
            "Fit Time:  10.11\n",
            "\n",
            "Working on  LogisticRegression_l2 + tdif\n",
            "Fitting 5 folds for each of 12 candidates, totalling 60 fits\n",
            "CPU times: user 8.92 s, sys: 28.3 ms, total: 8.95 s\n",
            "Wall time: 9.09 s\n",
            "\n",
            "Results for:  LogisticRegression_l2 + tdif\n",
            "\n",
            "Accuracy:  0.859504132231405\n",
            "\n",
            "Best Parameters:  {'vct__max_features': 500, 'vct__stop_words': None}\n",
            "\n",
            "Fit Time:  9.09\n",
            "\n",
            "Working on  DecisionTree + cvect\n",
            "Fitting 5 folds for each of 12 candidates, totalling 60 fits\n",
            "CPU times: user 2.91 s, sys: 9.04 ms, total: 2.92 s\n",
            "Wall time: 3 s\n",
            "\n",
            "Results for:  DecisionTree + cvect\n",
            "\n",
            "Accuracy:  0.8132231404958677\n",
            "\n",
            "Best Parameters:  {'vct__max_features': 2000, 'vct__stop_words': None}\n",
            "\n",
            "Fit Time:  3.0\n",
            "\n",
            "Working on  DecisionTree + tdif\n",
            "Fitting 5 folds for each of 12 candidates, totalling 60 fits\n",
            "CPU times: user 2.62 s, sys: 7.94 ms, total: 2.63 s\n",
            "Wall time: 2.62 s\n",
            "\n",
            "Results for:  DecisionTree + tdif\n",
            "\n",
            "Accuracy:  0.828099173553719\n",
            "\n",
            "Best Parameters:  {'vct__max_features': 1000, 'vct__stop_words': None}\n",
            "\n",
            "Fit Time:  2.63\n",
            "\n",
            "Working on  NaiveBayes + cvect\n",
            "Fitting 5 folds for each of 12 candidates, totalling 60 fits\n",
            "CPU times: user 1.18 s, sys: 3.71 ms, total: 1.18 s\n",
            "Wall time: 1.18 s\n",
            "\n",
            "Results for:  NaiveBayes + cvect\n",
            "\n",
            "Accuracy:  0.8462809917355372\n",
            "\n",
            "Best Parameters:  {'vct__max_features': 500, 'vct__stop_words': None}\n",
            "\n",
            "Fit Time:  1.18\n",
            "\n",
            "Working on  NaiveBayes + tdif\n",
            "Fitting 5 folds for each of 12 candidates, totalling 60 fits\n",
            "CPU times: user 1.32 s, sys: 9.88 ms, total: 1.33 s\n",
            "Wall time: 1.33 s\n",
            "\n",
            "Results for:  NaiveBayes + tdif\n",
            "\n",
            "Accuracy:  0.7950413223140496\n",
            "\n",
            "Best Parameters:  {'vct__max_features': 100, 'vct__stop_words': None}\n",
            "\n",
            "Fit Time:  1.33\n"
          ]
        }
      ],
      "source": [
        "iter_res = ''\n",
        "\n",
        "for model in models:\n",
        "        for vector in vectors:\n",
        "            print('\\nWorking on ', model[0], '+' ,vector[0] )\n",
        "            pipe_1 = Pipeline([('vct', vector[1]),\n",
        "                               ('mod', model[1])])\n",
        "            grid = GridSearchCV(pipe_1, param_grid=params2, cv=5, scoring='accuracy', verbose=1)\n",
        "            \n",
        "            start_time = time.time()\n",
        "            %time grid.fit(lemma_X_train, y_train)\n",
        "            end_time = time.time()\n",
        "            \n",
        "            fit_time = round(end_time - start_time,2)\n",
        "            \n",
        "            test_acc = grid.score(lemma_X_test, y_test)\n",
        "            \n",
        "            best_p = grid.best_params_\n",
        "            \n",
        "            Max_feat_item = list(best_p.items())[0]\n",
        "            Max_feat_value = Max_feat_item[1]\n",
        "            \n",
        "            Best_stop_item = list(best_p.items())[1]\n",
        "            Best_stop_value = Best_stop_item[1]\n",
        "            \n",
        "            print('\\nResults for: ', model[0], '+' ,vector[0] )\n",
        "            print('\\nAccuracy: ', test_acc)\n",
        "            print('\\nBest Parameters: ', best_p)\n",
        "            print('\\nFit Time: ', fit_time)\n",
        "            \n",
        "            iter_res= pd.DataFrame({'Model' : model[0], \n",
        "                                    'Stemming':'WordNetLemmatizer()',\n",
        "                                    'Vectorizer':vector[0], \n",
        "                                    'Best Max Features' : Max_feat_value, \n",
        "                                    'Best Stop Words' : Best_stop_value,  \n",
        "                                    'Score' : test_acc,\n",
        "                                    'Time' : fit_time \n",
        "                                   }, index=[0])\n",
        "            \n",
        "            iter_res.set_index('Model', inplace=True)\n",
        "            results = pd.concat([results, iter_res], axis=0)\n"
      ]
    },
    {
      "cell_type": "code",
      "execution_count": 303,
      "metadata": {
        "id": "h_w66SAQb34K"
      },
      "outputs": [],
      "source": [
        "results.sort_values(by='Score', ascending=False, inplace=True)"
      ]
    },
    {
      "cell_type": "markdown",
      "metadata": {
        "id": "hYbo7sOKb34K"
      },
      "source": [
        "### Results"
      ]
    },
    {
      "cell_type": "code",
      "execution_count": 304,
      "metadata": {
        "colab": {
          "base_uri": "https://localhost:8080/",
          "height": 457
        },
        "id": "aVq6QMHxb34K",
        "outputId": "5bfffc89-2a68-41f3-aa97-85b350360991"
      },
      "outputs": [
        {
          "output_type": "execute_result",
          "data": {
            "text/plain": [
              "                                  Stemming Vectorizer Best Max Features  \\\n",
              "Model                                                                     \n",
              "LogisticRegression_l2  WordNetLemmatizer()      cvect              1000   \n",
              "LogisticRegression_l2      PorterStemmer()      cvect              2000   \n",
              "LogisticRegression_l2      PorterStemmer()       tdif               500   \n",
              "LogisticRegression_l2  WordNetLemmatizer()       tdif               500   \n",
              "DecisionTree               PorterStemmer()       tdif              1000   \n",
              "DecisionTree               PorterStemmer()      cvect              2000   \n",
              "NaiveBayes             WordNetLemmatizer()      cvect               500   \n",
              "NaiveBayes                 PorterStemmer()      cvect               500   \n",
              "DecisionTree           WordNetLemmatizer()       tdif              1000   \n",
              "DecisionTree           WordNetLemmatizer()      cvect              2000   \n",
              "NaiveBayes             WordNetLemmatizer()       tdif               100   \n",
              "NaiveBayes                 PorterStemmer()       tdif               500   \n",
              "\n",
              "                      Best Stop Words     Score   Time  \n",
              "Model                                                   \n",
              "LogisticRegression_l2            None  0.889256  10.11  \n",
              "LogisticRegression_l2            None  0.885950   8.24  \n",
              "LogisticRegression_l2            None  0.861157   9.21  \n",
              "LogisticRegression_l2            None  0.859504   9.09  \n",
              "DecisionTree                     None  0.852893   2.38  \n",
              "DecisionTree                     None  0.851240   1.85  \n",
              "NaiveBayes                       None  0.846281   1.18  \n",
              "NaiveBayes                       None  0.842975   1.18  \n",
              "DecisionTree                     None  0.828099   2.63  \n",
              "DecisionTree                     None  0.813223   3.00  \n",
              "NaiveBayes                       None  0.795041   1.33  \n",
              "NaiveBayes                    english  0.791736   1.30  "
            ],
            "text/html": [
              "\n",
              "  <div id=\"df-4dade7ac-1883-4d13-ba2f-b6c00f8240a1\">\n",
              "    <div class=\"colab-df-container\">\n",
              "      <div>\n",
              "<style scoped>\n",
              "    .dataframe tbody tr th:only-of-type {\n",
              "        vertical-align: middle;\n",
              "    }\n",
              "\n",
              "    .dataframe tbody tr th {\n",
              "        vertical-align: top;\n",
              "    }\n",
              "\n",
              "    .dataframe thead th {\n",
              "        text-align: right;\n",
              "    }\n",
              "</style>\n",
              "<table border=\"1\" class=\"dataframe\">\n",
              "  <thead>\n",
              "    <tr style=\"text-align: right;\">\n",
              "      <th></th>\n",
              "      <th>Stemming</th>\n",
              "      <th>Vectorizer</th>\n",
              "      <th>Best Max Features</th>\n",
              "      <th>Best Stop Words</th>\n",
              "      <th>Score</th>\n",
              "      <th>Time</th>\n",
              "    </tr>\n",
              "    <tr>\n",
              "      <th>Model</th>\n",
              "      <th></th>\n",
              "      <th></th>\n",
              "      <th></th>\n",
              "      <th></th>\n",
              "      <th></th>\n",
              "      <th></th>\n",
              "    </tr>\n",
              "  </thead>\n",
              "  <tbody>\n",
              "    <tr>\n",
              "      <th>LogisticRegression_l2</th>\n",
              "      <td>WordNetLemmatizer()</td>\n",
              "      <td>cvect</td>\n",
              "      <td>1000</td>\n",
              "      <td>None</td>\n",
              "      <td>0.889256</td>\n",
              "      <td>10.11</td>\n",
              "    </tr>\n",
              "    <tr>\n",
              "      <th>LogisticRegression_l2</th>\n",
              "      <td>PorterStemmer()</td>\n",
              "      <td>cvect</td>\n",
              "      <td>2000</td>\n",
              "      <td>None</td>\n",
              "      <td>0.885950</td>\n",
              "      <td>8.24</td>\n",
              "    </tr>\n",
              "    <tr>\n",
              "      <th>LogisticRegression_l2</th>\n",
              "      <td>PorterStemmer()</td>\n",
              "      <td>tdif</td>\n",
              "      <td>500</td>\n",
              "      <td>None</td>\n",
              "      <td>0.861157</td>\n",
              "      <td>9.21</td>\n",
              "    </tr>\n",
              "    <tr>\n",
              "      <th>LogisticRegression_l2</th>\n",
              "      <td>WordNetLemmatizer()</td>\n",
              "      <td>tdif</td>\n",
              "      <td>500</td>\n",
              "      <td>None</td>\n",
              "      <td>0.859504</td>\n",
              "      <td>9.09</td>\n",
              "    </tr>\n",
              "    <tr>\n",
              "      <th>DecisionTree</th>\n",
              "      <td>PorterStemmer()</td>\n",
              "      <td>tdif</td>\n",
              "      <td>1000</td>\n",
              "      <td>None</td>\n",
              "      <td>0.852893</td>\n",
              "      <td>2.38</td>\n",
              "    </tr>\n",
              "    <tr>\n",
              "      <th>DecisionTree</th>\n",
              "      <td>PorterStemmer()</td>\n",
              "      <td>cvect</td>\n",
              "      <td>2000</td>\n",
              "      <td>None</td>\n",
              "      <td>0.851240</td>\n",
              "      <td>1.85</td>\n",
              "    </tr>\n",
              "    <tr>\n",
              "      <th>NaiveBayes</th>\n",
              "      <td>WordNetLemmatizer()</td>\n",
              "      <td>cvect</td>\n",
              "      <td>500</td>\n",
              "      <td>None</td>\n",
              "      <td>0.846281</td>\n",
              "      <td>1.18</td>\n",
              "    </tr>\n",
              "    <tr>\n",
              "      <th>NaiveBayes</th>\n",
              "      <td>PorterStemmer()</td>\n",
              "      <td>cvect</td>\n",
              "      <td>500</td>\n",
              "      <td>None</td>\n",
              "      <td>0.842975</td>\n",
              "      <td>1.18</td>\n",
              "    </tr>\n",
              "    <tr>\n",
              "      <th>DecisionTree</th>\n",
              "      <td>WordNetLemmatizer()</td>\n",
              "      <td>tdif</td>\n",
              "      <td>1000</td>\n",
              "      <td>None</td>\n",
              "      <td>0.828099</td>\n",
              "      <td>2.63</td>\n",
              "    </tr>\n",
              "    <tr>\n",
              "      <th>DecisionTree</th>\n",
              "      <td>WordNetLemmatizer()</td>\n",
              "      <td>cvect</td>\n",
              "      <td>2000</td>\n",
              "      <td>None</td>\n",
              "      <td>0.813223</td>\n",
              "      <td>3.00</td>\n",
              "    </tr>\n",
              "    <tr>\n",
              "      <th>NaiveBayes</th>\n",
              "      <td>WordNetLemmatizer()</td>\n",
              "      <td>tdif</td>\n",
              "      <td>100</td>\n",
              "      <td>None</td>\n",
              "      <td>0.795041</td>\n",
              "      <td>1.33</td>\n",
              "    </tr>\n",
              "    <tr>\n",
              "      <th>NaiveBayes</th>\n",
              "      <td>PorterStemmer()</td>\n",
              "      <td>tdif</td>\n",
              "      <td>500</td>\n",
              "      <td>english</td>\n",
              "      <td>0.791736</td>\n",
              "      <td>1.30</td>\n",
              "    </tr>\n",
              "  </tbody>\n",
              "</table>\n",
              "</div>\n",
              "      <button class=\"colab-df-convert\" onclick=\"convertToInteractive('df-4dade7ac-1883-4d13-ba2f-b6c00f8240a1')\"\n",
              "              title=\"Convert this dataframe to an interactive table.\"\n",
              "              style=\"display:none;\">\n",
              "        \n",
              "  <svg xmlns=\"http://www.w3.org/2000/svg\" height=\"24px\"viewBox=\"0 0 24 24\"\n",
              "       width=\"24px\">\n",
              "    <path d=\"M0 0h24v24H0V0z\" fill=\"none\"/>\n",
              "    <path d=\"M18.56 5.44l.94 2.06.94-2.06 2.06-.94-2.06-.94-.94-2.06-.94 2.06-2.06.94zm-11 1L8.5 8.5l.94-2.06 2.06-.94-2.06-.94L8.5 2.5l-.94 2.06-2.06.94zm10 10l.94 2.06.94-2.06 2.06-.94-2.06-.94-.94-2.06-.94 2.06-2.06.94z\"/><path d=\"M17.41 7.96l-1.37-1.37c-.4-.4-.92-.59-1.43-.59-.52 0-1.04.2-1.43.59L10.3 9.45l-7.72 7.72c-.78.78-.78 2.05 0 2.83L4 21.41c.39.39.9.59 1.41.59.51 0 1.02-.2 1.41-.59l7.78-7.78 2.81-2.81c.8-.78.8-2.07 0-2.86zM5.41 20L4 18.59l7.72-7.72 1.47 1.35L5.41 20z\"/>\n",
              "  </svg>\n",
              "      </button>\n",
              "      \n",
              "  <style>\n",
              "    .colab-df-container {\n",
              "      display:flex;\n",
              "      flex-wrap:wrap;\n",
              "      gap: 12px;\n",
              "    }\n",
              "\n",
              "    .colab-df-convert {\n",
              "      background-color: #E8F0FE;\n",
              "      border: none;\n",
              "      border-radius: 50%;\n",
              "      cursor: pointer;\n",
              "      display: none;\n",
              "      fill: #1967D2;\n",
              "      height: 32px;\n",
              "      padding: 0 0 0 0;\n",
              "      width: 32px;\n",
              "    }\n",
              "\n",
              "    .colab-df-convert:hover {\n",
              "      background-color: #E2EBFA;\n",
              "      box-shadow: 0px 1px 2px rgba(60, 64, 67, 0.3), 0px 1px 3px 1px rgba(60, 64, 67, 0.15);\n",
              "      fill: #174EA6;\n",
              "    }\n",
              "\n",
              "    [theme=dark] .colab-df-convert {\n",
              "      background-color: #3B4455;\n",
              "      fill: #D2E3FC;\n",
              "    }\n",
              "\n",
              "    [theme=dark] .colab-df-convert:hover {\n",
              "      background-color: #434B5C;\n",
              "      box-shadow: 0px 1px 3px 1px rgba(0, 0, 0, 0.15);\n",
              "      filter: drop-shadow(0px 1px 2px rgba(0, 0, 0, 0.3));\n",
              "      fill: #FFFFFF;\n",
              "    }\n",
              "  </style>\n",
              "\n",
              "      <script>\n",
              "        const buttonEl =\n",
              "          document.querySelector('#df-4dade7ac-1883-4d13-ba2f-b6c00f8240a1 button.colab-df-convert');\n",
              "        buttonEl.style.display =\n",
              "          google.colab.kernel.accessAllowed ? 'block' : 'none';\n",
              "\n",
              "        async function convertToInteractive(key) {\n",
              "          const element = document.querySelector('#df-4dade7ac-1883-4d13-ba2f-b6c00f8240a1');\n",
              "          const dataTable =\n",
              "            await google.colab.kernel.invokeFunction('convertToInteractive',\n",
              "                                                     [key], {});\n",
              "          if (!dataTable) return;\n",
              "\n",
              "          const docLinkHtml = 'Like what you see? Visit the ' +\n",
              "            '<a target=\"_blank\" href=https://colab.research.google.com/notebooks/data_table.ipynb>data table notebook</a>'\n",
              "            + ' to learn more about interactive tables.';\n",
              "          element.innerHTML = '';\n",
              "          dataTable['output_type'] = 'display_data';\n",
              "          await google.colab.output.renderOutput(dataTable, element);\n",
              "          const docLink = document.createElement('div');\n",
              "          docLink.innerHTML = docLinkHtml;\n",
              "          element.appendChild(docLink);\n",
              "        }\n",
              "      </script>\n",
              "    </div>\n",
              "  </div>\n",
              "  "
            ]
          },
          "metadata": {},
          "execution_count": 304
        }
      ],
      "source": [
        "results"
      ]
    },
    {
      "cell_type": "code",
      "source": [
        "ar = results['Score'].plot(kind='bar',figsize=(9,6),title=\"Accuracy Score\")\n",
        "sns.despine(left=True, bottom=True)\n",
        "ar.set_xlabel(\"Class\")\n",
        "ar.set_ylabel(\"Frequency\")\n",
        "sns.despine(left=True, bottom=True)"
      ],
      "metadata": {
        "colab": {
          "base_uri": "https://localhost:8080/",
          "height": 501
        },
        "id": "uZfAqaSdwWDp",
        "outputId": "9287fe73-e61c-4fdc-9880-8f8ae4ecbc74"
      },
      "execution_count": 305,
      "outputs": [
        {
          "output_type": "display_data",
          "data": {
            "text/plain": [
              "<Figure size 648x432 with 1 Axes>"
            ],
            "image/png": "[encoded data removed]"
          },
          "metadata": {
            "needs_background": "light"
          }
        }
      ]
    },
    {
      "cell_type": "code",
      "source": [
        "plt.figure(figsize=(9, 6))\n",
        "sns.scatterplot(data=results, x='Time', y='Score', hue='Score', s=100)\n",
        "plt.show()"
      ],
      "metadata": {
        "colab": {
          "base_uri": "https://localhost:8080/",
          "height": 388
        },
        "id": "YaSwu4AbxUB_",
        "outputId": "08ecfeaa-ae0a-40ba-c4a0-52d1368fbb74"
      },
      "execution_count": 306,
      "outputs": [
        {
          "output_type": "display_data",
          "data": {
            "text/plain": [
              "<Figure size 648x432 with 1 Axes>"
            ],
            "image/png": "[encoded data removed]"
          },
          "metadata": {
            "needs_background": "light"
          }
        }
      ]
    },
    {
      "cell_type": "code",
      "execution_count": 307,
      "metadata": {
        "colab": {
          "base_uri": "https://localhost:8080/"
        },
        "id": "A2jxfT_hb34K",
        "outputId": "2e7b3cd9-9a4c-4f15-ebdc-4b31850bb186"
      },
      "outputs": [
        {
          "output_type": "stream",
          "name": "stdout",
          "text": [
            "Total Fitting Time (min) = 0.86\n"
          ]
        }
      ],
      "source": [
        "total_fitting_time = results['Time'].sum()\n",
        "total_fitting_time = total_fitting_time/60\n",
        "print('Total Fitting Time (min) =', round(total_fitting_time,2))"
      ]
    },
    {
      "cell_type": "code",
      "execution_count": 308,
      "metadata": {
        "colab": {
          "base_uri": "https://localhost:8080/",
          "height": 269
        },
        "id": "WehMyAR3b34L",
        "outputId": "d2ed9c11-02fb-47a2-eb9b-f36851430dff"
      },
      "outputs": [
        {
          "output_type": "execute_result",
          "data": {
            "text/plain": [
              "                                            Time\n",
              "Stemming            Model                       \n",
              "PorterStemmer()     DecisionTree            4.23\n",
              "                    LogisticRegression_l2  17.45\n",
              "                    NaiveBayes              2.48\n",
              "WordNetLemmatizer() DecisionTree            5.63\n",
              "                    LogisticRegression_l2  19.20\n",
              "                    NaiveBayes              2.51"
            ],
            "text/html": [
              "\n",
              "  <div id=\"df-16a1f2f6-e469-4a56-ad43-684753dd6814\">\n",
              "    <div class=\"colab-df-container\">\n",
              "      <div>\n",
              "<style scoped>\n",
              "    .dataframe tbody tr th:only-of-type {\n",
              "        vertical-align: middle;\n",
              "    }\n",
              "\n",
              "    .dataframe tbody tr th {\n",
              "        vertical-align: top;\n",
              "    }\n",
              "\n",
              "    .dataframe thead th {\n",
              "        text-align: right;\n",
              "    }\n",
              "</style>\n",
              "<table border=\"1\" class=\"dataframe\">\n",
              "  <thead>\n",
              "    <tr style=\"text-align: right;\">\n",
              "      <th></th>\n",
              "      <th></th>\n",
              "      <th>Time</th>\n",
              "    </tr>\n",
              "    <tr>\n",
              "      <th>Stemming</th>\n",
              "      <th>Model</th>\n",
              "      <th></th>\n",
              "    </tr>\n",
              "  </thead>\n",
              "  <tbody>\n",
              "    <tr>\n",
              "      <th rowspan=\"3\" valign=\"top\">PorterStemmer()</th>\n",
              "      <th>DecisionTree</th>\n",
              "      <td>4.23</td>\n",
              "    </tr>\n",
              "    <tr>\n",
              "      <th>LogisticRegression_l2</th>\n",
              "      <td>17.45</td>\n",
              "    </tr>\n",
              "    <tr>\n",
              "      <th>NaiveBayes</th>\n",
              "      <td>2.48</td>\n",
              "    </tr>\n",
              "    <tr>\n",
              "      <th rowspan=\"3\" valign=\"top\">WordNetLemmatizer()</th>\n",
              "      <th>DecisionTree</th>\n",
              "      <td>5.63</td>\n",
              "    </tr>\n",
              "    <tr>\n",
              "      <th>LogisticRegression_l2</th>\n",
              "      <td>19.20</td>\n",
              "    </tr>\n",
              "    <tr>\n",
              "      <th>NaiveBayes</th>\n",
              "      <td>2.51</td>\n",
              "    </tr>\n",
              "  </tbody>\n",
              "</table>\n",
              "</div>\n",
              "      <button class=\"colab-df-convert\" onclick=\"convertToInteractive('df-16a1f2f6-e469-4a56-ad43-684753dd6814')\"\n",
              "              title=\"Convert this dataframe to an interactive table.\"\n",
              "              style=\"display:none;\">\n",
              "        \n",
              "  <svg xmlns=\"http://www.w3.org/2000/svg\" height=\"24px\"viewBox=\"0 0 24 24\"\n",
              "       width=\"24px\">\n",
              "    <path d=\"M0 0h24v24H0V0z\" fill=\"none\"/>\n",
              "    <path d=\"M18.56 5.44l.94 2.06.94-2.06 2.06-.94-2.06-.94-.94-2.06-.94 2.06-2.06.94zm-11 1L8.5 8.5l.94-2.06 2.06-.94-2.06-.94L8.5 2.5l-.94 2.06-2.06.94zm10 10l.94 2.06.94-2.06 2.06-.94-2.06-.94-.94-2.06-.94 2.06-2.06.94z\"/><path d=\"M17.41 7.96l-1.37-1.37c-.4-.4-.92-.59-1.43-.59-.52 0-1.04.2-1.43.59L10.3 9.45l-7.72 7.72c-.78.78-.78 2.05 0 2.83L4 21.41c.39.39.9.59 1.41.59.51 0 1.02-.2 1.41-.59l7.78-7.78 2.81-2.81c.8-.78.8-2.07 0-2.86zM5.41 20L4 18.59l7.72-7.72 1.47 1.35L5.41 20z\"/>\n",
              "  </svg>\n",
              "      </button>\n",
              "      \n",
              "  <style>\n",
              "    .colab-df-container {\n",
              "      display:flex;\n",
              "      flex-wrap:wrap;\n",
              "      gap: 12px;\n",
              "    }\n",
              "\n",
              "    .colab-df-convert {\n",
              "      background-color: #E8F0FE;\n",
              "      border: none;\n",
              "      border-radius: 50%;\n",
              "      cursor: pointer;\n",
              "      display: none;\n",
              "      fill: #1967D2;\n",
              "      height: 32px;\n",
              "      padding: 0 0 0 0;\n",
              "      width: 32px;\n",
              "    }\n",
              "\n",
              "    .colab-df-convert:hover {\n",
              "      background-color: #E2EBFA;\n",
              "      box-shadow: 0px 1px 2px rgba(60, 64, 67, 0.3), 0px 1px 3px 1px rgba(60, 64, 67, 0.15);\n",
              "      fill: #174EA6;\n",
              "    }\n",
              "\n",
              "    [theme=dark] .colab-df-convert {\n",
              "      background-color: #3B4455;\n",
              "      fill: #D2E3FC;\n",
              "    }\n",
              "\n",
              "    [theme=dark] .colab-df-convert:hover {\n",
              "      background-color: #434B5C;\n",
              "      box-shadow: 0px 1px 3px 1px rgba(0, 0, 0, 0.15);\n",
              "      filter: drop-shadow(0px 1px 2px rgba(0, 0, 0, 0.3));\n",
              "      fill: #FFFFFF;\n",
              "    }\n",
              "  </style>\n",
              "\n",
              "      <script>\n",
              "        const buttonEl =\n",
              "          document.querySelector('#df-16a1f2f6-e469-4a56-ad43-684753dd6814 button.colab-df-convert');\n",
              "        buttonEl.style.display =\n",
              "          google.colab.kernel.accessAllowed ? 'block' : 'none';\n",
              "\n",
              "        async function convertToInteractive(key) {\n",
              "          const element = document.querySelector('#df-16a1f2f6-e469-4a56-ad43-684753dd6814');\n",
              "          const dataTable =\n",
              "            await google.colab.kernel.invokeFunction('convertToInteractive',\n",
              "                                                     [key], {});\n",
              "          if (!dataTable) return;\n",
              "\n",
              "          const docLinkHtml = 'Like what you see? Visit the ' +\n",
              "            '<a target=\"_blank\" href=https://colab.research.google.com/notebooks/data_table.ipynb>data table notebook</a>'\n",
              "            + ' to learn more about interactive tables.';\n",
              "          element.innerHTML = '';\n",
              "          dataTable['output_type'] = 'display_data';\n",
              "          await google.colab.output.renderOutput(dataTable, element);\n",
              "          const docLink = document.createElement('div');\n",
              "          docLink.innerHTML = docLinkHtml;\n",
              "          element.appendChild(docLink);\n",
              "        }\n",
              "      </script>\n",
              "    </div>\n",
              "  </div>\n",
              "  "
            ]
          },
          "metadata": {},
          "execution_count": 308
        }
      ],
      "source": [
        "# Perform an aggregation on the groups\n",
        "grouped = results.groupby(['Stemming','Model'])\n",
        "result_g = grouped['Time'].sum()\n",
        "pd.DataFrame(result_g) "
      ]
    }
  ],
  "metadata": {
    "kernelspec": {
      "display_name": "Python 3 (ipykernel)",
      "language": "python",
      "name": "python3"
    },
    "language_info": {
      "codemirror_mode": {
        "name": "ipython",
        "version": 3
      },
      "file_extension": ".py",
      "mimetype": "text/x-python",
      "name": "python",
      "nbconvert_exporter": "python",
      "pygments_lexer": "ipython3",
      "version": "3.9.15"
    },
    "colab": {
      "provenance": [],
      "include_colab_link": true
    }
  },
  "nbformat": 4,
  "nbformat_minor": 0
}